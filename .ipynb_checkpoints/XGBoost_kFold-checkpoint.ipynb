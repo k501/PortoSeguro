{
 "cells": [
  {
   "cell_type": "code",
   "execution_count": 16,
   "metadata": {},
   "outputs": [],
   "source": [
    "import numpy as np\n",
    "import pandas as pd\n",
    "import seaborn as sns\n",
    "import matplotlib.pyplot as plt\n",
    "%matplotlib inline\n",
    "from sklearn.model_selection import StratifiedKFold\n",
    "from sklearn.grid_search import GridSearchCV\n",
    "import xgboost as xgb"
   ]
  },
  {
   "cell_type": "code",
   "execution_count": 13,
   "metadata": {
    "collapsed": true
   },
   "outputs": [],
   "source": [
    "# 関数：ジニ係数\n",
    "# from https://www.kaggle.com/c/ClaimPredictionChallenge/discussion/703#5897\n",
    "def gini(actual, pred, cmpcol = 0, sortcol = 1):\n",
    "    assert( len(actual) == len(pred) )\n",
    "    all = np.asarray(np.c_[ actual, pred, np.arange(len(actual)) ], dtype=np.float)\n",
    "    all = all[ np.lexsort((all[:,2], -1*all[:,1])) ]\n",
    "    totalLosses = all[:,0].sum()\n",
    "    giniSum = all[:,0].cumsum().sum() / totalLosses\n",
    "    \n",
    "    giniSum -= (len(actual) + 1) / 2.\n",
    "    return giniSum / len(actual)\n",
    " \n",
    "def gini_normalized(a, p):\n",
    "    return gini(a, p) / gini(a, a)\n",
    "\n",
    "def gini_xgb(preds, dtrain):\n",
    "    labels = dtrain.get_label()\n",
    "    gini_score = gini_normalized(labels, preds)\n",
    "    return 'gini', gini_score"
   ]
  },
  {
   "cell_type": "code",
   "execution_count": 3,
   "metadata": {
    "collapsed": true
   },
   "outputs": [],
   "source": [
    "# データ読み込み\n",
    "train = pd.read_csv('01.data/train.csv')\n",
    "test = pd.read_csv('01.data/test.csv') "
   ]
  },
  {
   "cell_type": "code",
   "execution_count": 4,
   "metadata": {
    "collapsed": true
   },
   "outputs": [],
   "source": [
    "# 特徴量と目的変数を分離\n",
    "features = train.drop(['id','target'], axis=1).values\n",
    "targets = train.target.values"
   ]
  },
  {
   "cell_type": "code",
   "execution_count": 5,
   "metadata": {},
   "outputs": [
    {
     "data": {
      "text/plain": [
       "Index(['ps_calc_01', 'ps_calc_02', 'ps_calc_03', 'ps_calc_04', 'ps_calc_05',\n",
       "       'ps_calc_06', 'ps_calc_07', 'ps_calc_08', 'ps_calc_09', 'ps_calc_10',\n",
       "       'ps_calc_11', 'ps_calc_12', 'ps_calc_13', 'ps_calc_14',\n",
       "       'ps_calc_15_bin', 'ps_calc_16_bin', 'ps_calc_17_bin', 'ps_calc_18_bin',\n",
       "       'ps_calc_19_bin', 'ps_calc_20_bin'],\n",
       "      dtype='object')"
      ]
     },
     "execution_count": 5,
     "metadata": {},
     "output_type": "execute_result"
    }
   ],
   "source": [
    "# Drop unnessesary column\n",
    "unwanted = train.columns[train.columns.str.startswith('ps_calc_')]\n",
    "unwanted"
   ]
  },
  {
   "cell_type": "code",
   "execution_count": 6,
   "metadata": {
    "collapsed": true
   },
   "outputs": [],
   "source": [
    "# 利用しない変数を除外\n",
    "train = train.drop(unwanted, axis=1)  \n",
    "test = test.drop(unwanted, axis=1)  "
   ]
  },
  {
   "cell_type": "code",
   "execution_count": 9,
   "metadata": {},
   "outputs": [],
   "source": [
    "# Make X , y as features and targets\n",
    "X = train.drop(['id', 'target'], axis=1).values # trainから\n",
    "y = train.target.values\n",
    "test_id = test.id.values\n",
    "test = test.drop('id', axis=1)\n",
    "\n",
    "sub = pd.DataFrame()\n",
    "sub['id'] = test_id\n",
    "sub['target'] = np.zeros_like(test_id)"
   ]
  },
  {
   "cell_type": "code",
   "execution_count": 7,
   "metadata": {
    "collapsed": true
   },
   "outputs": [],
   "source": [
    "# KFoldの設定\n",
    "kfold = 5\n",
    "skf = StratifiedKFold(n_splits=kfold, random_state=42)"
   ]
  },
  {
   "cell_type": "code",
   "execution_count": 8,
   "metadata": {
    "collapsed": true
   },
   "outputs": [],
   "source": [
    "# XGBoost \n",
    "# More parameters has to be tuned. Good luck :)\n",
    "params = {\n",
    "    # ブースター変数\n",
    "    'min_child_weight': 10.0, # 子ノードにおける最小の重み　葉ノードの重みの合計がmin_child_weight未満で分割しない\n",
    "    'max_depth': 7,\n",
    "    'max_delta_step': 1.8, # \n",
    "    'colsample_bytree': 0.4,\n",
    "    'subsample': 0.8,\n",
    "    'eta': 0.025,\n",
    "    'gamma': 0.65,\n",
    "    'num_boost_round' : 700,\n",
    "    # タスク変数\n",
    "    'objective': 'binary:logistic'\n",
    "    }"
   ]
  },
  {
   "cell_type": "code",
   "execution_count": null,
   "metadata": {
    "collapsed": true
   },
   "outputs": [],
   "source": []
  },
  {
   "cell_type": "code",
   "execution_count": 44,
   "metadata": {},
   "outputs": [
    {
     "name": "stdout",
     "output_type": "stream",
     "text": [
      "[Fold 1/5]\n",
      "[0]\ttrain-error:0.036447\tvalid-error:0.036449\ttrain-gini:0.031021\tvalid-gini:0.036149\n",
      "Multiple eval metrics have been passed: 'valid-gini' will be used for early stopping.\n",
      "\n",
      "Will train until valid-gini hasn't improved in 70 rounds.\n",
      "[100]\ttrain-error:0.036447\tvalid-error:0.036449\ttrain-gini:0.320707\tvalid-gini:0.266656\n",
      "[200]\ttrain-error:0.036447\tvalid-error:0.036449\ttrain-gini:0.358862\tvalid-gini:0.27362\n",
      "[300]\ttrain-error:0.036435\tvalid-error:0.036449\ttrain-gini:0.393836\tvalid-gini:0.277752\n",
      "[400]\ttrain-error:0.036426\tvalid-error:0.036457\ttrain-gini:0.422973\tvalid-gini:0.280028\n",
      "Stopping. Best iteration:\n",
      "[411]\ttrain-error:0.036424\tvalid-error:0.036457\ttrain-gini:0.425636\tvalid-gini:0.280271\n",
      "\n",
      "[Fold 1/5 Prediciton:]\n",
      "[Fold 2/5]\n",
      "[0]\ttrain-error:0.036447\tvalid-error:0.036449\ttrain-gini:0.031254\tvalid-gini:0.042578\n",
      "Multiple eval metrics have been passed: 'valid-gini' will be used for early stopping.\n",
      "\n",
      "Will train until valid-gini hasn't improved in 70 rounds.\n",
      "[100]\ttrain-error:0.036447\tvalid-error:0.036449\ttrain-gini:0.316886\tvalid-gini:0.267965\n",
      "[200]\ttrain-error:0.036445\tvalid-error:0.036449\ttrain-gini:0.355028\tvalid-gini:0.278954\n",
      "[300]\ttrain-error:0.03643\tvalid-error:0.036449\ttrain-gini:0.390649\tvalid-gini:0.285058\n",
      "[400]\ttrain-error:0.036424\tvalid-error:0.036449\ttrain-gini:0.4195\tvalid-gini:0.286289\n",
      "[500]\ttrain-error:0.036422\tvalid-error:0.036449\ttrain-gini:0.443063\tvalid-gini:0.286773\n",
      "Stopping. Best iteration:\n",
      "[447]\ttrain-error:0.036424\tvalid-error:0.036449\ttrain-gini:0.431356\tvalid-gini:0.287202\n",
      "\n",
      "[Fold 2/5 Prediciton:]\n",
      "[Fold 3/5]\n",
      "[0]\ttrain-error:0.036447\tvalid-error:0.036449\ttrain-gini:0.031001\tvalid-gini:0.034109\n",
      "Multiple eval metrics have been passed: 'valid-gini' will be used for early stopping.\n",
      "\n",
      "Will train until valid-gini hasn't improved in 70 rounds.\n",
      "[100]\ttrain-error:0.036447\tvalid-error:0.036449\ttrain-gini:0.320483\tvalid-gini:0.268331\n",
      "[200]\ttrain-error:0.036447\tvalid-error:0.036449\ttrain-gini:0.359006\tvalid-gini:0.275048\n",
      "[300]\ttrain-error:0.036435\tvalid-error:0.036457\ttrain-gini:0.394469\tvalid-gini:0.280519\n",
      "[400]\ttrain-error:0.036424\tvalid-error:0.036449\ttrain-gini:0.422698\tvalid-gini:0.281454\n",
      "Stopping. Best iteration:\n",
      "[387]\ttrain-error:0.036424\tvalid-error:0.036449\ttrain-gini:0.419486\tvalid-gini:0.281605\n",
      "\n",
      "[Fold 3/5 Prediciton:]\n",
      "[Fold 4/5]\n",
      "[0]\ttrain-error:0.036447\tvalid-error:0.036449\ttrain-gini:0.036177\tvalid-gini:0.03293\n",
      "Multiple eval metrics have been passed: 'valid-gini' will be used for early stopping.\n",
      "\n",
      "Will train until valid-gini hasn't improved in 70 rounds.\n",
      "[100]\ttrain-error:0.036447\tvalid-error:0.036449\ttrain-gini:0.317205\tvalid-gini:0.269938\n",
      "[200]\ttrain-error:0.036447\tvalid-error:0.036449\ttrain-gini:0.356916\tvalid-gini:0.280611\n",
      "[300]\ttrain-error:0.036445\tvalid-error:0.036449\ttrain-gini:0.394572\tvalid-gini:0.287382\n",
      "[400]\ttrain-error:0.036439\tvalid-error:0.036424\ttrain-gini:0.420392\tvalid-gini:0.288966\n",
      "[500]\ttrain-error:0.036428\tvalid-error:0.036407\ttrain-gini:0.444448\tvalid-gini:0.290455\n",
      "Stopping. Best iteration:\n",
      "[519]\ttrain-error:0.036428\tvalid-error:0.036416\ttrain-gini:0.448768\tvalid-gini:0.290539\n",
      "\n",
      "[Fold 4/5 Prediciton:]\n",
      "[Fold 5/5]\n",
      "[0]\ttrain-error:0.036449\tvalid-error:0.036441\ttrain-gini:0.029844\tvalid-gini:0.020964\n",
      "Multiple eval metrics have been passed: 'valid-gini' will be used for early stopping.\n",
      "\n",
      "Will train until valid-gini hasn't improved in 70 rounds.\n",
      "[100]\ttrain-error:0.036449\tvalid-error:0.036441\ttrain-gini:0.317726\tvalid-gini:0.262563\n",
      "[200]\ttrain-error:0.036439\tvalid-error:0.036441\ttrain-gini:0.357687\tvalid-gini:0.270281\n",
      "[300]\ttrain-error:0.03643\tvalid-error:0.036458\ttrain-gini:0.394516\tvalid-gini:0.275853\n",
      "[400]\ttrain-error:0.03642\tvalid-error:0.036466\ttrain-gini:0.422236\tvalid-gini:0.277713\n",
      "Stopping. Best iteration:\n",
      "[419]\ttrain-error:0.03642\tvalid-error:0.036466\ttrain-gini:0.427932\tvalid-gini:0.27806\n",
      "\n",
      "[Fold 5/5 Prediciton:]\n"
     ]
    }
   ],
   "source": [
    "for i, (train_index, test_index) in enumerate(skf.split(X, y)):\n",
    "    print('[Fold %d/%d]' % (i + 1, kfold))\n",
    "    X_train, X_valid = X[train_index], X[test_index]\n",
    "    y_train, y_valid = y[train_index], y[test_index]\n",
    "    # Convert our data into XGBoost format\n",
    "    d_train = xgb.DMatrix(X_train, y_train)\n",
    "    d_valid = xgb.DMatrix(X_valid, y_valid)\n",
    "    d_test = xgb.DMatrix(test.values)\n",
    "    watchlist = [(d_train, 'train'), (d_valid, 'valid')]\n",
    "\n",
    "    # Train the model! We pass in a max of 2,000 rounds (with early stopping after 100)\n",
    "    # and the custom metric (maximize=True tells xgb that higher metric is better)\n",
    "    mdl = xgb.train(params, \n",
    "                    d_train, \n",
    "                    1600, \n",
    "                    watchlist, \n",
    "                    early_stopping_rounds=70,\n",
    "                    feval=gini_xgb,\n",
    "                    maximize=True,\n",
    "                    verbose_eval=100)\n",
    "\n",
    "    print('[Fold %d/%d Prediciton:]' % (i + 1, kfold))\n",
    "    # Predict on our test data\n",
    "    p_test = mdl.predict(d_test)\n",
    "    sub['target'] += p_test/kfold"
   ]
  },
  {
   "cell_type": "code",
   "execution_count": 46,
   "metadata": {
    "collapsed": true
   },
   "outputs": [],
   "source": [
    "sub.to_csv('02.output/StratifiedKFold.csv', index=False)"
   ]
  },
  {
   "cell_type": "code",
   "execution_count": null,
   "metadata": {
    "collapsed": true
   },
   "outputs": [],
   "source": []
  }
 ],
 "metadata": {
  "kernelspec": {
   "display_name": "Python 3",
   "language": "python",
   "name": "python3"
  },
  "language_info": {
   "codemirror_mode": {
    "name": "ipython",
    "version": 3
   },
   "file_extension": ".py",
   "mimetype": "text/x-python",
   "name": "python",
   "nbconvert_exporter": "python",
   "pygments_lexer": "ipython3",
   "version": "3.6.1"
  }
 },
 "nbformat": 4,
 "nbformat_minor": 2
}
